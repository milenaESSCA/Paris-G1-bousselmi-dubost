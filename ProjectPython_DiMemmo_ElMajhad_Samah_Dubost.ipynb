{
  "nbformat": 4,
  "nbformat_minor": 0,
  "metadata": {
    "colab": {
      "provenance": [],
      "authorship_tag": "ABX9TyPzwdeG3+hLT2K2lP0Ulzhf",
      "include_colab_link": true
    },
    "kernelspec": {
      "name": "python3",
      "display_name": "Python 3"
    },
    "language_info": {
      "name": "python"
    }
  },
  "cells": [
    {
      "cell_type": "markdown",
      "metadata": {
        "id": "view-in-github",
        "colab_type": "text"
      },
      "source": [
        "<a href=\"https://colab.research.google.com/github/milenaESSCA/Paris-G1-bousselmi-dubost/blob/main/ProjectPython_DiMemmo_ElMajhad_Samah_Dubost.ipynb\" target=\"_parent\"><img src=\"https://colab.research.google.com/assets/colab-badge.svg\" alt=\"Open In Colab\"/></a>"
      ]
    },
    {
      "cell_type": "code",
      "execution_count": 2,
      "metadata": {
        "id": "7M2hCmuBK9YI"
      },
      "outputs": [],
      "source": [
        "# PACKAGE IMPORT DATA \n",
        "import pandas as pd\n",
        "import numpy as np\n",
        "import pandas_datareader.data as pdr\n",
        "import yfinance as yf\n",
        "yf.pdr_override()\n",
        "from datetime import datetime\n",
        "import matplotlib.pyplot as plt\n",
        "import seaborn as sns"
      ]
    },
    {
      "cell_type": "code",
      "source": [
        "# EXPLANATION OF THE THE MEANING OF THIS SERIE OF CODES: \n",
        "\n",
        "# Print a explanatory sentence\n",
        "print(\"We are analyzing the stocks below to give our Investors insights on which stock to choose from this list:\")\n",
        "\n",
        "# The list where company name is stored\n",
        "company_names = []\n",
        "\n",
        "# Get company name from ticker name\n",
        "tickers = ['OR.PA', 'CA.PA', 'BN.PA', 'SAN.PA','ORA.PA','RI.PA','MC.PA','SW.PA','ENGI.PA','CAP.PA']\n",
        "for ticker in tickers:\n",
        "    stock_data = yf.Ticker(ticker).info\n",
        "    company_name = stock_data['longName']\n",
        "    company_names.append(company_name)\n",
        "\n",
        "# Print the company names\n",
        "print(company_names)\n",
        "\n",
        "# Print a explanatory sentence\n",
        "print(\"Our analysis below is based on the stock prices of those companies between 2017 to 2022\")\n"
      ],
      "metadata": {
        "id": "ad3ifz3OLDWC"
      },
      "execution_count": null,
      "outputs": []
    },
    {
      "cell_type": "code",
      "source": [
        "# IMPORT DATA\n",
        "\n",
        "# Create def to provide table with data from each ticker over a 5 year period \n",
        "def get(tickers, startdate, enddate):\n",
        "    def data(ticker):\n",
        "        return pdr.get_data_yahoo(ticker, start=startdate, end=enddate)\n",
        "    datas = map (data, tickers)\n",
        "    return(pd.concat(datas, keys=tickers, names=['Ticker', 'Date']))\n",
        "\n",
        "# The data chosen named all_data\n",
        "all_data = get(tickers, datetime(2017, 1, 1), datetime(2022, 1, 1))\n",
        "print(all_data)"
      ],
      "metadata": {
        "id": "i3h6xOK8LUge"
      },
      "execution_count": null,
      "outputs": []
    },
    {
      "cell_type": "code",
      "source": [
        "# GRAPH OF THE STOCK PRICE OVER TIME \n",
        "\n",
        "# select the 'Adj Close' column from the DataFrame\n",
        "adj_close = all_data['Adj Close']\n",
        "\n",
        "# plot the adjusted close price for each ticker\n",
        "fig, ax = plt.subplots(figsize=(12,8))\n",
        "for ticker in tickers:\n",
        "    ax.plot(adj_close.loc[ticker], label=ticker)\n",
        "ax.set_xlabel('Date')\n",
        "ax.set_ylabel('Adjusted Close Price')\n",
        "ax.set_title('Stock Prices')\n",
        "ax.legend()\n",
        "plt.show()"
      ],
      "metadata": {
        "id": "-JraRw78LmvM"
      },
      "execution_count": null,
      "outputs": []
    },
    {
      "cell_type": "code",
      "source": [
        "# FREQUENCY DISTRIBUTION ON CLOSING PRICES / STOCKS\n",
        "\n",
        "#Isolate the `Adj Close` values and transform the DataFrame\n",
        "daily_close_px = adj_close.reset_index().pivot('Date', 'Ticker', 'Adj Close')\n",
        "\n",
        "#Calculate the daily percentage change for `daily_close_px`\n",
        "daily_pct_change = daily_close_px.pct_change()\n",
        "\n",
        "#Plot the distributions\n",
        "daily_pct_change.hist(bins=50, sharex=False, figsize=(12,8))\n",
        "\n",
        "#Show the resulting plot\n",
        "plt.show()"
      ],
      "metadata": {
        "id": "o3RqEDN5PN1y"
      },
      "execution_count": null,
      "outputs": []
    },
    {
      "cell_type": "code",
      "source": [
        "# ANNUAL RETURN & STANDARD DEVIATION / STOCK\n",
        "\n",
        "# The annual return / stock\n",
        "annual_return = (1 + daily_pct_change.mean()) ** 252 - 1\n",
        "\n",
        "# The standard deviation / stock \n",
        "std_dev = daily_pct_change.std() * np.sqrt(252)\n",
        "\n",
        "# Plot data / ticker\n",
        "ax = table.plot(kind='bar', rot=0)\n",
        "\n",
        "# Set chart title and axis labels\n",
        "plt.title('Compare each company return and volatility')\n",
        "plt.xlabel('Ticker')\n",
        "plt.ylabel('Percentage')\n",
        "\n",
        "# Show plot\n",
        "plt.show()"
      ],
      "metadata": {
        "id": "GQeyPoc8LwsT"
      },
      "execution_count": null,
      "outputs": []
    },
    {
      "cell_type": "code",
      "source": [
        "# ANNUAL GROWTH RATE PER STOCK WITH VISUAL REPRESENTATION:\n",
        "\n",
        "# Annual growth rates dataframe\n",
        "annual_growth_rates = pd.DataFrame()\n",
        "\n",
        "for ticker in tickers:\n",
        "    data = all_data.loc[ticker]['Adj Close']\n",
        "    prices_at_end_of_year = data.resample('Y').last()\n",
        "    annual_growth_rates[ticker] = prices_at_end_of_year.pct_change()\n",
        "\n",
        "# Plot of Annual growth rates / ticker\n",
        "annual_growth_rates.plot()\n",
        "plt.title('Annual Growth Rates')\n",
        "plt.xlabel('Year')\n",
        "plt.ylabel('Growth Rate')\n",
        "plt.show()"
      ],
      "metadata": {
        "id": "Jy2lyc8KXhrH"
      },
      "execution_count": null,
      "outputs": []
    },
    {
      "cell_type": "code",
      "source": [
        "# ANNUAL RISK MAP PER STOCK (MEAN OF RETURNS)\n",
        "\n",
        "# Create the risk map for each ticker\n",
        "fig, axs = plt.subplots(nrows=len(tickers), figsize=(8, 5 * len(tickers)))\n",
        "\n",
        "for i, ticker in enumerate(tickers):\n",
        "    sns.scatterplot(x=std_dev, y=annual_return, ax=axs[i])\n",
        "    #sns.scatterplot(x=std_returns, y=mean_returns, ax=axs[i])\n",
        "    axs[i].set_title(ticker)\n",
        "\n",
        "# Set the plot title and axis labels\n",
        "fig.suptitle('Risk Map')\n",
        "plt.xlabel('Standard Deviation')\n",
        "plt.ylabel('Mean Return')\n",
        "\n",
        "# Adjust spacing between subplots\n",
        "fig.tight_layout()\n",
        "\n",
        "# Show the plot\n",
        "plt.show()"
      ],
      "metadata": {
        "id": "SRJCIQ6hWttq"
      },
      "execution_count": null,
      "outputs": []
    },
    {
      "cell_type": "code",
      "source": [
        "#VOLATILITY CALCULATION\n",
        "\n",
        "#Define the minumum of periods to consider\n",
        "min_periods = 75\n",
        "\n",
        "#Calculate the volatility\n",
        "vol = daily_pct_change.rolling(min_periods).std() * np.sqrt(min_periods)\n",
        "\n",
        "#Plot the volatility\n",
        "vol.plot(figsize=(10, 8))\n",
        "\n",
        "#Show the plot\n",
        "plt.show()"
      ],
      "metadata": {
        "id": "EQDQ4f3TW_3x"
      },
      "execution_count": null,
      "outputs": []
    },
    {
      "cell_type": "code",
      "source": [
        "# MAXIMUM DRAWDOWN\n",
        "\n",
        "# Define a trailing 252 trading day window\n",
        "window = 252\n",
        "\n",
        "# Max Drawdown dataframe\n",
        "max_drawdowns = pd.DataFrame()\n",
        "\n",
        "for ticker in tickers:\n",
        "    data = all_data.loc[ticker]['Adj Close']\n",
        "    # Calculate the max drawdown in the past window days for each day\n",
        "    rolling_max = data.rolling(window, min_periods=1).max()\n",
        "    daily_drawdown = data/rolling_max - 1.0\n",
        "    # Calculate the minimum (negative) daily drawdown\n",
        "    max_daily_drawdown = daily_drawdown.rolling(window, min_periods=1).min()\n",
        "    max_drawdowns[ticker] = max_daily_drawdown\n",
        "    \n",
        "# Plot the results\n",
        "max_drawdowns.plot()\n",
        "# Show the plot\n",
        "plt.show()\n"
      ],
      "metadata": {
        "id": "FaqB5kGsY84k"
      },
      "execution_count": null,
      "outputs": []
    },
    {
      "cell_type": "code",
      "source": [
        "# CREATE A SCATTERPLOT FOR EACH STOCK WITH DAILY RETURNS: \n",
        "\n",
        "# Create a figure with multiple subplots\n",
        "fig, axs = plt.subplots(nrows=len(tickers), figsize=(8, 5 * len(tickers)))\n",
        "\n",
        "# Iterate through each ticker and create a scatter plot\n",
        "for i, ticker in enumerate(tickers):\n",
        "    df = all_data.loc[ticker]\n",
        "    sns.scatterplot(x=df.index, y='Adj Close', data=df, ax=axs[i])\n",
        "    axs[i].set_title(ticker)\n",
        "\n",
        "# Adjust spacing between subplots\n",
        "fig.tight_layout()\n",
        "\n",
        "# Show the plot\n",
        "plt.show()"
      ],
      "metadata": {
        "id": "eUMUTZAkZCBr"
      },
      "execution_count": null,
      "outputs": []
    },
    {
      "cell_type": "code",
      "source": [
        "# FINAL SUMMARY TABLE \n",
        "summary_table = pd.DataFrame()\n",
        "for ticker in tickers:\n",
        "    data = all_data.loc[ticker]['Adj Close']\n",
        "    volatility = std_dev[ticker]\n",
        "    returns = annual_return[ticker]\n",
        "    drawdown = max_drawdowns[ticker].min()\n",
        "    summary_table.at[ticker, 'Mean Stock Price'] = data.mean()\n",
        "    summary_table.at[ticker, 'Volatility'] = volatility\n",
        "    summary_table.at[ticker, 'Return'] = returns\n",
        "    summary_table.at[ticker, 'Growth Rate'] = annual_growth_rates.loc[:, ticker].mean()\n",
        "    summary_table.at[ticker, 'Max drawdown'] = drawdown\n",
        "\n",
        "print(summary_table)"
      ],
      "metadata": {
        "id": "ySihEMrTfCN6"
      },
      "execution_count": null,
      "outputs": []
    },
    {
      "cell_type": "code",
      "source": [
        "# Choose the best stock\n",
        "summary_table = summary_table.sort_values(by=['Return', 'Volatility', 'Max drawdown'], ascending=[False, True, True])\n",
        "best_ticker = summary_table.index[0]\n",
        "print(f\"The best performing ticker is {best_ticker}\")"
      ],
      "metadata": {
        "id": "tq1WeE96iZcp"
      },
      "execution_count": null,
      "outputs": []
    }
  ]
}